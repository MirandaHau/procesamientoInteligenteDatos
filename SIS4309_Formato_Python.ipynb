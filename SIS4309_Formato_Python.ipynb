{
  "nbformat": 4,
  "nbformat_minor": 0,
  "metadata": {
    "colab": {
      "provenance": []
    },
    "kernelspec": {
      "name": "python3",
      "display_name": "Python 3"
    },
    "language_info": {
      "name": "python"
    }
  },
  "cells": [
    {
      "cell_type": "markdown",
      "source": [
        "#SIS202560 - Procesamiento Inteligente de Datos\n",
        "\n",
        "<div>\n",
        "\n",
        "### SIS202560_Formato-Python\n",
        "\n",
        "* 3.Redes bayesianas y cadenas de Markov\n",
        "* SIS202560_Python_MirandaHau_Tarea-3\n"
      ],
      "metadata": {
        "id": "8kb1mW-PiaKX"
      }
    },
    {
      "cell_type": "markdown",
      "source": [
        "**Datos del estudiante:**\n",
        "* Nombre completo: Deysi Miranda Hau Marrufo\n",
        "* Mátricula: 00443416\n",
        "\n",
        "\n",
        "Profesor: Enrique Naredo García"
      ],
      "metadata": {
        "id": "xu_6B1B8iwLE"
      }
    },
    {
      "cell_type": "markdown",
      "source": [
        "#3. Redes bayesianas y cadenas de Markov"
      ],
      "metadata": {
        "id": "a7iJRGDBjLEl"
      }
    },
    {
      "cell_type": "markdown",
      "source": [
        "## Introducción\n",
        "\n",
        "- Esta práctica utiliza Redes Bayesianas para clasificar dígitos manuscritos.\n",
        "- Se implementa el clasificador BNClassifier de la librería pyAgrum.\n",
        "- Se realiza la división de los datos en 70% entrenamiento y 30% prueba.\n",
        "- Se visualizan los resultados y se analizan las características más relevantes mediante la Markov Blanket."
      ],
      "metadata": {
        "id": "X8MGQ3JkjNyH"
      }
    },
    {
      "cell_type": "code",
      "source": [
        "# ─── Celda 1: Instalar pyAgrum y librerías necesarias ───\n",
        "\n",
        "# Actualizar repositorios\n",
        "!apt-get update -qq\n",
        "\n",
        "# Instalar dependencias de sistema necesarias para pyAgrum\n",
        "!apt-get install -y python3-pyqt5 python3-pyqt5.qtsvg python3-dev build-essential cmake\n",
        "\n",
        "# Instalar pyAgrum\n",
        "!pip install pyAgrum --upgrade --quiet\n",
        "\n",
        "# Instalar otras librerías necesarias\n",
        "!pip install scikit-learn matplotlib numpy --quiet"
      ],
      "metadata": {
        "colab": {
          "base_uri": "https://localhost:8080/"
        },
        "id": "7cFjzf4QlZR6",
        "outputId": "8cf827f9-0c8b-4766-b4e3-bebd8d2b1963"
      },
      "execution_count": 8,
      "outputs": [
        {
          "output_type": "stream",
          "name": "stdout",
          "text": [
            "W: Skipping acquire of configured file 'main/source/Sources' as repository 'https://r2u.stat.illinois.edu/ubuntu jammy InRelease' does not seem to provide it (sources.list entry misspelt?)\n",
            "Reading package lists... Done\n",
            "Building dependency tree... Done\n",
            "Reading state information... Done\n",
            "build-essential is already the newest version (12.9ubuntu3).\n",
            "python3-pyqt5 is already the newest version (5.15.6+dfsg-1ubuntu3).\n",
            "python3-pyqt5.qtsvg is already the newest version (5.15.6+dfsg-1ubuntu3).\n",
            "cmake is already the newest version (3.22.1-1ubuntu1.22.04.2).\n",
            "python3-dev is already the newest version (3.10.6-1~22.04.1).\n",
            "python3-dev set to manually installed.\n",
            "0 upgraded, 0 newly installed, 0 to remove and 44 not upgraded.\n"
          ]
        }
      ]
    },
    {
      "cell_type": "markdown",
      "source": [
        "##Subtitulo"
      ],
      "metadata": {
        "id": "7Wf1uL8vjTy7"
      }
    },
    {
      "cell_type": "markdown",
      "source": [
        "Contenido y comentarios."
      ],
      "metadata": {
        "id": "e8ORN09WjTy9"
      }
    },
    {
      "cell_type": "code",
      "execution_count": null,
      "metadata": {
        "id": "dBofkPT_iW3n"
      },
      "outputs": [],
      "source": [
        "# Comentario del código\n",
        "\n",
        "# código probado y sin errores"
      ]
    },
    {
      "cell_type": "markdown",
      "source": [
        "##Conclusiones"
      ],
      "metadata": {
        "id": "7UYpuHsFjoX5"
      }
    },
    {
      "cell_type": "markdown",
      "source": [
        "Contenido y comentarios."
      ],
      "metadata": {
        "id": "fF7xeKcWjrwc"
      }
    },
    {
      "cell_type": "markdown",
      "source": [
        "##Bibiliografía"
      ],
      "metadata": {
        "id": "gzU77USojsh-"
      }
    },
    {
      "cell_type": "markdown",
      "source": [
        "[1] 1era Refeerencia en estilo APA.\n",
        "\n",
        "[2] 2da Refeerencia en estilo APA.\n",
        "\n",
        "[3] 3era Refeerencia en estilo APA."
      ],
      "metadata": {
        "id": "QG3087JLjvDf"
      }
    }
  ]
}