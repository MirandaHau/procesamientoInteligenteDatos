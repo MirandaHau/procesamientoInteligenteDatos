{
  "nbformat": 4,
  "nbformat_minor": 0,
  "metadata": {
    "colab": {
      "provenance": []
    },
    "kernelspec": {
      "name": "python3",
      "display_name": "Python 3"
    },
    "language_info": {
      "name": "python"
    }
  },
  "cells": [
    {
      "cell_type": "markdown",
      "source": [
        "#SIS202560 - Procesamiento Inteligente de Datos\n",
        "\n",
        "<div>\n",
        "\n",
        "### SIS202560_Formato-Python\n",
        "\n",
        "* 3.Redes bayesianas y cadenas de Markov\n",
        "* SIS202560_Python_MirandaHau_Tarea-3\n"
      ],
      "metadata": {
        "id": "8kb1mW-PiaKX"
      }
    },
    {
      "cell_type": "markdown",
      "source": [
        "**Datos del estudiante:**\n",
        "* Nombre completo: Deysi Miranda Hau Marrufo\n",
        "* Mátricula: 00443416\n",
        "\n",
        "\n",
        "Profesor: Enrique Naredo García"
      ],
      "metadata": {
        "id": "xu_6B1B8iwLE"
      }
    },
    {
      "cell_type": "markdown",
      "source": [
        "#3. Redes bayesianas y cadenas de Markov"
      ],
      "metadata": {
        "id": "a7iJRGDBjLEl"
      }
    },
    {
      "cell_type": "markdown",
      "source": [
        "## Introducción\n",
        "\n",
        "- Esta práctica utiliza Redes Bayesianas para clasificar dígitos manuscritos.\n",
        "- Se implementa el clasificador BNClassifier de la librería pyAgrum.\n",
        "- Se realiza la división de los datos en 70% entrenamiento y 30% prueba.\n",
        "- Se visualizan los resultados y se analizan las características más relevantes mediante la Markov Blanket."
      ],
      "metadata": {
        "id": "X8MGQ3JkjNyH"
      }
    },
    {
      "cell_type": "code",
      "source": [
        "# ─── Celda 1: Instalar pyAgrum y librerías necesarias ───\n",
        "\n",
        "# Actualizar repositorios\n",
        "!apt-get update -qq\n",
        "\n",
        "# Instalar dependencias de sistema necesarias para pyAgrum\n",
        "!apt-get install -y python3-pyqt5 python3-pyqt5.qtsvg python3-dev build-essential cmake\n",
        "\n",
        "# Instalar pyAgrum\n",
        "!pip install pyAgrum --upgrade --quiet\n",
        "\n",
        "# Instalar otras librerías necesarias\n",
        "!pip install scikit-learn matplotlib numpy --quiet"
      ],
      "metadata": {
        "id": "7cFjzf4QlZR6",
        "outputId": "8cf827f9-0c8b-4766-b4e3-bebd8d2b1963",
        "colab": {
          "base_uri": "https://localhost:8080/"
        }
      },
      "execution_count": 8,
      "outputs": [
        {
          "output_type": "stream",
          "name": "stdout",
          "text": [
            "W: Skipping acquire of configured file 'main/source/Sources' as repository 'https://r2u.stat.illinois.edu/ubuntu jammy InRelease' does not seem to provide it (sources.list entry misspelt?)\n",
            "Reading package lists... Done\n",
            "Building dependency tree... Done\n",
            "Reading state information... Done\n",
            "build-essential is already the newest version (12.9ubuntu3).\n",
            "python3-pyqt5 is already the newest version (5.15.6+dfsg-1ubuntu3).\n",
            "python3-pyqt5.qtsvg is already the newest version (5.15.6+dfsg-1ubuntu3).\n",
            "cmake is already the newest version (3.22.1-1ubuntu1.22.04.2).\n",
            "python3-dev is already the newest version (3.10.6-1~22.04.1).\n",
            "python3-dev set to manually installed.\n",
            "0 upgraded, 0 newly installed, 0 to remove and 44 not upgraded.\n"
          ]
        }
      ]
    },
    {
      "cell_type": "code",
      "source": [
        "# Librerías para redes bayesianas\n",
        "import pyAgrum as gum\n",
        "import pyAgrum.lib.notebook as gnb\n",
        "from pyAgrum.skbn import BNClassifier\n",
        "\n",
        "# Librerías para gráficos y análisis\n",
        "import numpy as np\n",
        "import matplotlib.pyplot as plt\n",
        "from matplotlib.colors import ListedColormap\n",
        "from matplotlib import patheffects as pe\n",
        "\n",
        "# Librerías de scikit-learn\n",
        "from sklearn.datasets import load_digits\n",
        "from sklearn.model_selection import train_test_split\n",
        "from sklearn.preprocessing import StandardScaler\n",
        "from sklearn import metrics"
      ],
      "metadata": {
        "colab": {
          "base_uri": "https://localhost:8080/",
          "height": 384
        },
        "id": "4QlGRb5UjQ0P",
        "outputId": "8cf0650d-fce5-4135-f1a3-955203673ee8"
      },
      "execution_count": 5,
      "outputs": [
        {
          "output_type": "error",
          "ename": "ModuleNotFoundError",
          "evalue": "No module named 'pyAgrum'",
          "traceback": [
            "\u001b[0;31m---------------------------------------------------------------------------\u001b[0m",
            "\u001b[0;31mModuleNotFoundError\u001b[0m                       Traceback (most recent call last)",
            "\u001b[0;32m/tmp/ipython-input-3979480148.py\u001b[0m in \u001b[0;36m<cell line: 0>\u001b[0;34m()\u001b[0m\n\u001b[1;32m      1\u001b[0m \u001b[0;31m# Librerías para redes bayesianas\u001b[0m\u001b[0;34m\u001b[0m\u001b[0;34m\u001b[0m\u001b[0m\n\u001b[0;32m----> 2\u001b[0;31m \u001b[0;32mimport\u001b[0m \u001b[0mpyAgrum\u001b[0m \u001b[0;32mas\u001b[0m \u001b[0mgum\u001b[0m\u001b[0;34m\u001b[0m\u001b[0;34m\u001b[0m\u001b[0m\n\u001b[0m\u001b[1;32m      3\u001b[0m \u001b[0;32mimport\u001b[0m \u001b[0mpyAgrum\u001b[0m\u001b[0;34m.\u001b[0m\u001b[0mlib\u001b[0m\u001b[0;34m.\u001b[0m\u001b[0mnotebook\u001b[0m \u001b[0;32mas\u001b[0m \u001b[0mgnb\u001b[0m\u001b[0;34m\u001b[0m\u001b[0;34m\u001b[0m\u001b[0m\n\u001b[1;32m      4\u001b[0m \u001b[0;32mfrom\u001b[0m \u001b[0mpyAgrum\u001b[0m\u001b[0;34m.\u001b[0m\u001b[0mskbn\u001b[0m \u001b[0;32mimport\u001b[0m \u001b[0mBNClassifier\u001b[0m\u001b[0;34m\u001b[0m\u001b[0;34m\u001b[0m\u001b[0m\n\u001b[1;32m      5\u001b[0m \u001b[0;34m\u001b[0m\u001b[0m\n",
            "\u001b[0;31mModuleNotFoundError\u001b[0m: No module named 'pyAgrum'",
            "",
            "\u001b[0;31m---------------------------------------------------------------------------\u001b[0;32m\nNOTE: If your import is failing due to a missing package, you can\nmanually install dependencies using either !pip or !apt.\n\nTo view examples of installing some common dependencies, click the\n\"Open Examples\" button below.\n\u001b[0;31m---------------------------------------------------------------------------\u001b[0m\n"
          ],
          "errorDetails": {
            "actions": [
              {
                "action": "open_url",
                "actionText": "Open Examples",
                "url": "/notebooks/snippets/importing_libraries.ipynb"
              }
            ]
          }
        }
      ]
    },
    {
      "cell_type": "markdown",
      "source": [
        "##Subtitulo"
      ],
      "metadata": {
        "id": "7Wf1uL8vjTy7"
      }
    },
    {
      "cell_type": "markdown",
      "source": [
        "Contenido y comentarios."
      ],
      "metadata": {
        "id": "e8ORN09WjTy9"
      }
    },
    {
      "cell_type": "code",
      "execution_count": null,
      "metadata": {
        "id": "dBofkPT_iW3n"
      },
      "outputs": [],
      "source": [
        "# Comentario del código\n",
        "\n",
        "# código probado y sin errores"
      ]
    },
    {
      "cell_type": "markdown",
      "source": [
        "##Conclusiones"
      ],
      "metadata": {
        "id": "7UYpuHsFjoX5"
      }
    },
    {
      "cell_type": "markdown",
      "source": [
        "Contenido y comentarios."
      ],
      "metadata": {
        "id": "fF7xeKcWjrwc"
      }
    },
    {
      "cell_type": "markdown",
      "source": [
        "##Bibiliografía"
      ],
      "metadata": {
        "id": "gzU77USojsh-"
      }
    },
    {
      "cell_type": "markdown",
      "source": [
        "[1] 1era Refeerencia en estilo APA.\n",
        "\n",
        "[2] 2da Refeerencia en estilo APA.\n",
        "\n",
        "[3] 3era Refeerencia en estilo APA."
      ],
      "metadata": {
        "id": "QG3087JLjvDf"
      }
    }
  ]
}