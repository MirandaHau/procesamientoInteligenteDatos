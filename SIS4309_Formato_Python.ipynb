{
  "nbformat": 4,
  "nbformat_minor": 0,
  "metadata": {
    "colab": {
      "provenance": []
    },
    "kernelspec": {
      "name": "python3",
      "display_name": "Python 3"
    },
    "language_info": {
      "name": "python"
    }
  },
  "cells": [
    {
      "cell_type": "markdown",
      "source": [
        "#SIS202560 - Procesamiento Inteligente de Datos\n",
        "\n",
        "<div>\n",
        "\n",
        "### SIS202560_Formato-Python\n",
        "\n",
        "* 3.Redes bayesianas y cadenas de Markov\n",
        "* SIS202560_Python_MirandaHau_Tarea-3\n"
      ],
      "metadata": {
        "id": "8kb1mW-PiaKX"
      }
    },
    {
      "cell_type": "markdown",
      "source": [
        "**Datos del estudiante:**\n",
        "* Nombre completo: Deysi Miranda Hau Marrufo\n",
        "* Mátricula: 00443416\n",
        "\n",
        "\n",
        "Profesor: Enrique Naredo García"
      ],
      "metadata": {
        "id": "xu_6B1B8iwLE"
      }
    },
    {
      "cell_type": "markdown",
      "source": [
        "#3. Redes bayesianas y cadenas de Markov"
      ],
      "metadata": {
        "id": "a7iJRGDBjLEl"
      }
    },
    {
      "cell_type": "markdown",
      "source": [
        "## Introducción\n",
        "\n",
        "- Esta práctica utiliza Redes Bayesianas para clasificar dígitos manuscritos.\n",
        "- Se implementa el clasificador BNClassifier de la librería pyAgrum.\n",
        "- Se realiza la división de los datos en 70% entrenamiento y 30% prueba.\n",
        "- Se visualizan los resultados y se analizan las características más relevantes mediante la Markov Blanket."
      ],
      "metadata": {
        "id": "X8MGQ3JkjNyH"
      }
    },
    {
      "cell_type": "markdown",
      "source": [
        "Contenido y comentarios."
      ],
      "metadata": {
        "id": "Ch8u6uZIjQgl"
      }
    },
    {
      "cell_type": "code",
      "source": [
        "# Instalar pyAgrum si no está instalado\n",
        "!pip install pyAgrum --quiet\n",
        "\n",
        "# Librerías necesarias\n",
        "import pyAgrum as gum\n",
        "import pyAgrum.lib.notebook as gnb\n",
        "from pyAgrum.skbn import BNClassifier\n",
        "\n",
        "import matplotlib.pyplot as plt\n",
        "from matplotlib.colors import ListedColormap\n",
        "import numpy as np\n",
        "\n",
        "from sklearn import datasets, metrics\n",
        "from sklearn.model_selection import train_test_split\n",
        "from sklearn.preprocessing import StandardScaler"
      ],
      "metadata": {
        "id": "QwYQlSWFjmsm"
      },
      "execution_count": null,
      "outputs": []
    },
    {
      "cell_type": "markdown",
      "source": [
        "##Subtitulo"
      ],
      "metadata": {
        "id": "7Wf1uL8vjTy7"
      }
    },
    {
      "cell_type": "markdown",
      "source": [
        "Contenido y comentarios."
      ],
      "metadata": {
        "id": "e8ORN09WjTy9"
      }
    },
    {
      "cell_type": "code",
      "execution_count": null,
      "metadata": {
        "id": "dBofkPT_iW3n"
      },
      "outputs": [],
      "source": [
        "# Comentario del código\n",
        "\n",
        "# código probado y sin errores"
      ]
    },
    {
      "cell_type": "markdown",
      "source": [
        "##Conclusiones"
      ],
      "metadata": {
        "id": "7UYpuHsFjoX5"
      }
    },
    {
      "cell_type": "markdown",
      "source": [
        "Contenido y comentarios."
      ],
      "metadata": {
        "id": "fF7xeKcWjrwc"
      }
    },
    {
      "cell_type": "markdown",
      "source": [
        "##Bibiliografía"
      ],
      "metadata": {
        "id": "gzU77USojsh-"
      }
    },
    {
      "cell_type": "markdown",
      "source": [
        "[1] 1era Refeerencia en estilo APA.\n",
        "\n",
        "[2] 2da Refeerencia en estilo APA.\n",
        "\n",
        "[3] 3era Refeerencia en estilo APA."
      ],
      "metadata": {
        "id": "QG3087JLjvDf"
      }
    }
  ]
}